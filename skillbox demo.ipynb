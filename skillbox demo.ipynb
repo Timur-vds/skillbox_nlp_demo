{
 "cells": [
  {
   "cell_type": "code",
   "execution_count": 2,
   "metadata": {},
   "outputs": [
    {
     "name": "stderr",
     "output_type": "stream",
     "text": [
      "c:\\anaconda3\\lib\\site-packages\\sklearn\\cross_validation.py:44: DeprecationWarning: This module was deprecated in version 0.18 in favor of the model_selection module into which all the refactored classes and functions are moved. Also note that the interface of the new CV iterators are different from that of this module. This module will be removed in 0.20.\n",
      "  \"This module will be removed in 0.20.\", DeprecationWarning)\n"
     ]
    }
   ],
   "source": [
    "import pandas as pd\n",
    "import numpy as np\n",
    "from sklearn.feature_extraction.text import TfidfVectorizer\n",
    "from sklearn.linear_model import LogisticRegression\n",
    "from sklearn.metrics import accuracy_score,confusion_matrix\n",
    "from sklearn import cross_validation,ensemble,metrics"
   ]
  },
  {
   "cell_type": "code",
   "execution_count": 3,
   "metadata": {},
   "outputs": [
    {
     "name": "stdout",
     "output_type": "stream",
     "text": [
      "24467\n"
     ]
    },
    {
     "data": {
      "text/html": [
       "<div>\n",
       "<style>\n",
       "    .dataframe thead tr:only-child th {\n",
       "        text-align: right;\n",
       "    }\n",
       "\n",
       "    .dataframe thead th {\n",
       "        text-align: left;\n",
       "    }\n",
       "\n",
       "    .dataframe tbody tr th {\n",
       "        vertical-align: top;\n",
       "    }\n",
       "</style>\n",
       "<table border=\"1\" class=\"dataframe\">\n",
       "  <thead>\n",
       "    <tr style=\"text-align: right;\">\n",
       "      <th></th>\n",
       "      <th>Unnamed: 0</th>\n",
       "      <th>Unnamed: 0.1</th>\n",
       "      <th>Unnamed: 0.1.1</th>\n",
       "      <th>url</th>\n",
       "      <th>title</th>\n",
       "      <th>text</th>\n",
       "      <th>topic</th>\n",
       "      <th>tags</th>\n",
       "    </tr>\n",
       "  </thead>\n",
       "  <tbody>\n",
       "    <tr>\n",
       "      <th>0</th>\n",
       "      <td>0</td>\n",
       "      <td>1</td>\n",
       "      <td>1</td>\n",
       "      <td>https://lenta.ru/news/2018/12/15/doping/</td>\n",
       "      <td>Австрия не представила доказательств вины росс...</td>\n",
       "      <td>Австрийские правоохранительные органы не предс...</td>\n",
       "      <td>Спорт</td>\n",
       "      <td>Зимние виды</td>\n",
       "    </tr>\n",
       "    <tr>\n",
       "      <th>1</th>\n",
       "      <td>1</td>\n",
       "      <td>5</td>\n",
       "      <td>5</td>\n",
       "      <td>https://lenta.ru/news/2018/12/15/sobor/</td>\n",
       "      <td>Архиепископ канонической УПЦ отказался прийти ...</td>\n",
       "      <td>Архиепископ канонической Украинской православн...</td>\n",
       "      <td>Бывший СССР</td>\n",
       "      <td>Украина</td>\n",
       "    </tr>\n",
       "    <tr>\n",
       "      <th>2</th>\n",
       "      <td>2</td>\n",
       "      <td>11</td>\n",
       "      <td>11</td>\n",
       "      <td>https://lenta.ru/news/2018/12/15/ovechkin/</td>\n",
       "      <td>Овечкин повторил свой рекорд</td>\n",
       "      <td>Капитан «Вашингтона» Александр Овечкин сделал...</td>\n",
       "      <td>Спорт</td>\n",
       "      <td>Хоккей</td>\n",
       "    </tr>\n",
       "    <tr>\n",
       "      <th>3</th>\n",
       "      <td>3</td>\n",
       "      <td>13</td>\n",
       "      <td>13</td>\n",
       "      <td>https://lenta.ru/news/2018/12/15/newyear/</td>\n",
       "      <td>Названы регионы России с самым дорогим и дешев...</td>\n",
       "      <td>Производитель онлайн-касс «Эвотор» проанализир...</td>\n",
       "      <td>Экономика</td>\n",
       "      <td>Деньги</td>\n",
       "    </tr>\n",
       "    <tr>\n",
       "      <th>4</th>\n",
       "      <td>4</td>\n",
       "      <td>14</td>\n",
       "      <td>14</td>\n",
       "      <td>https://lenta.ru/news/2018/12/15/gaz/</td>\n",
       "      <td>Россию и Украину пригласили на переговоры по газу</td>\n",
       "      <td>Вице-президент Еврокомиссии Марош Шефчович при...</td>\n",
       "      <td>Экономика</td>\n",
       "      <td>Госэкономика</td>\n",
       "    </tr>\n",
       "  </tbody>\n",
       "</table>\n",
       "</div>"
      ],
      "text/plain": [
       "   Unnamed: 0  Unnamed: 0.1  Unnamed: 0.1.1  \\\n",
       "0           0             1               1   \n",
       "1           1             5               5   \n",
       "2           2            11              11   \n",
       "3           3            13              13   \n",
       "4           4            14              14   \n",
       "\n",
       "                                          url  \\\n",
       "0    https://lenta.ru/news/2018/12/15/doping/   \n",
       "1     https://lenta.ru/news/2018/12/15/sobor/   \n",
       "2  https://lenta.ru/news/2018/12/15/ovechkin/   \n",
       "3   https://lenta.ru/news/2018/12/15/newyear/   \n",
       "4       https://lenta.ru/news/2018/12/15/gaz/   \n",
       "\n",
       "                                               title  \\\n",
       "0  Австрия не представила доказательств вины росс...   \n",
       "1  Архиепископ канонической УПЦ отказался прийти ...   \n",
       "2                       Овечкин повторил свой рекорд   \n",
       "3  Названы регионы России с самым дорогим и дешев...   \n",
       "4  Россию и Украину пригласили на переговоры по газу   \n",
       "\n",
       "                                                text        topic  \\\n",
       "0  Австрийские правоохранительные органы не предс...        Спорт   \n",
       "1  Архиепископ канонической Украинской православн...  Бывший СССР   \n",
       "2   Капитан «Вашингтона» Александр Овечкин сделал...        Спорт   \n",
       "3  Производитель онлайн-касс «Эвотор» проанализир...    Экономика   \n",
       "4  Вице-президент Еврокомиссии Марош Шефчович при...    Экономика   \n",
       "\n",
       "           tags  \n",
       "0   Зимние виды  \n",
       "1       Украина  \n",
       "2        Хоккей  \n",
       "3        Деньги  \n",
       "4  Госэкономика  "
      ]
     },
     "execution_count": 3,
     "metadata": {},
     "output_type": "execute_result"
    }
   ],
   "source": [
    "# читаем массив данных\n",
    "data = pd.read_csv('lenta_example.csv')\n",
    "print(len(data))\n",
    "data.head()"
   ]
  },
  {
   "cell_type": "code",
   "execution_count": 4,
   "metadata": {},
   "outputs": [
    {
     "data": {
      "text/plain": [
       "<24467x195536 sparse matrix of type '<class 'numpy.float64'>'\n",
       "\twith 3151943 stored elements in Compressed Sparse Row format>"
      ]
     },
     "execution_count": 4,
     "metadata": {},
     "output_type": "execute_result"
    }
   ],
   "source": [
    "# делаем векторизацию - превращаем текст в набор чисел\n",
    "vectorizer=TfidfVectorizer(analyzer='word')\n",
    "vectorizer.fit_transform(data['text'] )"
   ]
  },
  {
   "cell_type": "code",
   "execution_count": 9,
   "metadata": {},
   "outputs": [],
   "source": [
    "# формируем обучающую выборку\n",
    "X_train = data.tail(10000)['text']\n",
    "X_train_ve=vectorizer.fit_transform(X_train)\n",
    "X_train_arr=X_train_ve.toarray()\n",
    "y_train = data.tail(10000)['tags']\n",
    "\n",
    "# формируем тестовую выборку\n",
    "X_test = data.head(10000)['text']\n",
    "X_test_ve=vectorizer.transform(X_test)\n",
    "X_test_arr=X_test_ve.toarray()\n",
    "y_test = data.head(10000)['tags']\n",
    "y_test = np.array(y_test)"
   ]
  },
  {
   "cell_type": "code",
   "execution_count": 10,
   "metadata": {},
   "outputs": [],
   "source": [
    "# обучаем модель\n",
    "model = LogisticRegression()\n",
    "model.fit(X_train_arr, y_train)\n",
    "result = model.predict(X_test_arr)"
   ]
  },
  {
   "cell_type": "code",
   "execution_count": 11,
   "metadata": {},
   "outputs": [
    {
     "name": "stdout",
     "output_type": "stream",
     "text": [
      "train -  0.8186\n",
      "test -  0.6939\n",
      "                  precision    recall  f1-score   support\n",
      "\n",
      "       undefined       0.48      0.29      0.36       184\n",
      "            Авто       1.00      0.12      0.21        26\n",
      "      Белоруссия       0.00      0.00      0.00       115\n",
      "          Бизнес       0.31      0.51      0.38       256\n",
      "      Бокс и ММА       0.99      0.93      0.96       379\n",
      "           Вкусы       0.00      0.00      0.00        20\n",
      "     Внешний вид       0.75      0.02      0.05       127\n",
      "             Все       0.00      0.00      0.00        42\n",
      "         Гаджеты       0.74      0.67      0.70        67\n",
      "           Город       0.25      0.66      0.37        32\n",
      "    Госэкономика       0.58      0.91      0.70      1034\n",
      "            Дача       1.00      0.04      0.07        85\n",
      "        Движение       0.65      0.33      0.44        39\n",
      "  Деловой климат       0.75      0.30      0.42       229\n",
      "          Деньги       0.00      0.00      0.00        96\n",
      "           Жизнь       0.90      0.20      0.32        96\n",
      "      Закавказье       0.00      0.00      0.00       119\n",
      "     Зимние виды       0.77      0.89      0.83       226\n",
      "            Игры       0.00      0.00      0.00        12\n",
      "     Инструменты       0.75      0.12      0.20        26\n",
      "       Искусство       0.00      0.00      0.00        57\n",
      "         История       0.00      0.00      0.00        64\n",
      "        Квартира       0.78      0.89      0.83       575\n",
      "            Кино       0.61      0.96      0.75       527\n",
      "           Книги       0.00      0.00      0.00        52\n",
      "          Космос       0.95      0.70      0.81       262\n",
      "     Летние виды       1.00      0.01      0.02        94\n",
      "        Молдавия       0.00      0.00      0.00        17\n",
      "          Музыка       0.90      0.83      0.86       592\n",
      "           Наука       0.55      0.95      0.70       288\n",
      "          Оружие       0.87      0.94      0.90       514\n",
      "            Офис       0.00      0.00      0.00        48\n",
      "      Прибалтика       0.00      0.00      0.00        41\n",
      "           Рынки       0.00      0.00      0.00       356\n",
      "            Софт       0.00      0.00      0.00         6\n",
      "Социальная сфера       0.00      0.00      0.00        10\n",
      "    Средняя Азия       0.00      0.00      0.00        62\n",
      "           Стиль       0.59      0.20      0.30       249\n",
      "           Театр       0.00      0.00      0.00        66\n",
      "         Техника       0.00      0.00      0.00        69\n",
      "         Украина       0.68      0.97      0.80      1120\n",
      "      Фотография       0.00      0.00      0.00         7\n",
      "          Футбол       0.88      0.95      0.92      1313\n",
      "          Хоккей       0.94      0.38      0.54        81\n",
      "            Часы       0.97      0.68      0.80        47\n",
      "         Явления       0.39      0.67      0.49       273\n",
      "\n",
      "     avg / total       0.64      0.69      0.63     10000\n",
      "\n",
      "[[ 53   0   0 ...,   0   0   0]\n",
      " [  0   3   0 ...,   0   0   0]\n",
      " [  0   0   0 ...,   0   0   1]\n",
      " ..., \n",
      " [  4   0   0 ...,  31   0   0]\n",
      " [  1   0   0 ...,   0  32   4]\n",
      " [  1   0   0 ...,   0   1 182]]\n"
     ]
    },
    {
     "name": "stderr",
     "output_type": "stream",
     "text": [
      "c:\\anaconda3\\lib\\site-packages\\sklearn\\metrics\\classification.py:1113: UndefinedMetricWarning: Precision and F-score are ill-defined and being set to 0.0 in labels with no predicted samples.\n",
      "  'precision', 'predicted', average, warn_for)\n"
     ]
    }
   ],
   "source": [
    "# посмотрим на результаты\n",
    "print ('train - ',model.score(X_train_arr, y_train))\n",
    "print ('test - ',metrics.accuracy_score(y_test,result))\n",
    "print (metrics.classification_report (y_test,result))\n",
    "print (metrics.confusion_matrix (y_test,result))"
   ]
  },
  {
   "cell_type": "code",
   "execution_count": 12,
   "metadata": {},
   "outputs": [
    {
     "data": {
      "text/plain": [
       "array(['Кино'], dtype=object)"
      ]
     },
     "execution_count": 12,
     "metadata": {},
     "output_type": "execute_result"
    }
   ],
   "source": [
    "# попробуем проверить модель вручную\n",
    "model.predict(vectorizer.transform(['В Омске прошла выставка жареных гвоздей']))"
   ]
  },
  {
   "cell_type": "code",
   "execution_count": null,
   "metadata": {},
   "outputs": [],
   "source": [
    "# аренда жилья превысила спрос 2018 года\n",
    "# на форуме инноваций Греф презентовал новую платформу для игры на бирже\n",
    "# В Омске прошла выставка жареных гвоздей\n",
    "# Трамп наложил новые тарифы на сталь из китая из-за этого было открыто несколько заводов"
   ]
  }
 ],
 "metadata": {
  "kernelspec": {
   "display_name": "Python 3",
   "language": "python",
   "name": "python3"
  },
  "language_info": {
   "codemirror_mode": {
    "name": "ipython",
    "version": 3
   },
   "file_extension": ".py",
   "mimetype": "text/x-python",
   "name": "python",
   "nbconvert_exporter": "python",
   "pygments_lexer": "ipython3",
   "version": "3.6.1"
  }
 },
 "nbformat": 4,
 "nbformat_minor": 2
}
